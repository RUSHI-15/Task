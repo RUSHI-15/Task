{
  "nbformat": 4,
  "nbformat_minor": 5,
  "metadata": {
    "kernelspec": {
      "display_name": "Python 3",
      "language": "python",
      "name": "python3"
    },
    "language_info": {
      "codemirror_mode": {
        "name": "ipython",
        "version": 3
      },
      "file_extension": ".py",
      "mimetype": "text/x-python",
      "name": "python",
      "nbconvert_exporter": "python",
      "pygments_lexer": "ipython3",
      "version": "3.9.2"
    },
    "colab": {
      "name": "TASK1- Prediction Using Supervised ML.ipynb",
      "provenance": [],
      "collapsed_sections": [],
      "include_colab_link": true
    }
  },
  "cells": [
    {
      "cell_type": "markdown",
      "metadata": {
        "id": "view-in-github",
        "colab_type": "text"
      },
      "source": [
        "<a href=\"https://colab.research.google.com/github/RUSHI-15/Task/blob/main/TASK1_Prediction_Using_Supervised_ML.ipynb\" target=\"_parent\"><img src=\"https://colab.research.google.com/assets/colab-badge.svg\" alt=\"Open In Colab\"/></a>"
      ]
    },
    {
      "cell_type": "markdown",
      "metadata": {
        "id": "R9BMuXKtr37A"
      },
      "source": [
        "# TASK 1: *Prediction Using Supervised Machine Learning*"
      ],
      "id": "R9BMuXKtr37A"
    },
    {
      "cell_type": "markdown",
      "metadata": {
        "id": "xnG9Spk4r37A"
      },
      "source": [
        "## *Objective:* Predict the percentage of a student based on the number of study hours"
      ],
      "id": "xnG9Spk4r37A"
    },
    {
      "cell_type": "markdown",
      "metadata": {
        "id": "6GadaATLr37A"
      },
      "source": [
        "## **Author:** Rushikesh Chavanke"
      ],
      "id": "6GadaATLr37A"
    },
    {
      "cell_type": "markdown",
      "metadata": {
        "id": "uJyEWiOtr37A"
      },
      "source": [
        "### **Importing all the required libraries**"
      ],
      "id": "uJyEWiOtr37A"
    },
    {
      "cell_type": "code",
      "metadata": {
        "id": "EmGneiBur37A"
      },
      "source": [
        "import numpy as np\n",
        "import pandas as pd\n",
        "import matplotlib.pyplot as plt\n",
        "import seaborn as sns\n",
        "%matplotlib inline"
      ],
      "id": "EmGneiBur37A",
      "execution_count": null,
      "outputs": []
    },
    {
      "cell_type": "markdown",
      "metadata": {
        "id": "z71IlhO7r37A"
      },
      "source": [
        "### **Importing a csv file as a dataframe 'df'**"
      ],
      "id": "z71IlhO7r37A"
    },
    {
      "cell_type": "code",
      "metadata": {
        "id": "p8wHZeffr37A",
        "outputId": "ee26d2ee-50cb-4324-b0b4-bede7b43a1ee"
      },
      "source": [
        "url = \"http://bit.ly/w-data\"\n",
        "df = pd.read_csv(url)\n",
        "\n",
        "print(\"Data imported successfully.\")"
      ],
      "id": "p8wHZeffr37A",
      "execution_count": null,
      "outputs": [
        {
          "output_type": "stream",
          "text": [
            "Data imported successfully.\n"
          ],
          "name": "stdout"
        }
      ]
    },
    {
      "cell_type": "code",
      "metadata": {
        "id": "MvCoDO1Hr37A",
        "outputId": "1d4f20f4-db71-47ad-ea28-52ac7b2d8870"
      },
      "source": [
        "df.head()"
      ],
      "id": "MvCoDO1Hr37A",
      "execution_count": null,
      "outputs": [
        {
          "output_type": "execute_result",
          "data": {
            "text/html": [
              "<div>\n",
              "<style scoped>\n",
              "    .dataframe tbody tr th:only-of-type {\n",
              "        vertical-align: middle;\n",
              "    }\n",
              "\n",
              "    .dataframe tbody tr th {\n",
              "        vertical-align: top;\n",
              "    }\n",
              "\n",
              "    .dataframe thead th {\n",
              "        text-align: right;\n",
              "    }\n",
              "</style>\n",
              "<table border=\"1\" class=\"dataframe\">\n",
              "  <thead>\n",
              "    <tr style=\"text-align: right;\">\n",
              "      <th></th>\n",
              "      <th>Hours</th>\n",
              "      <th>Scores</th>\n",
              "    </tr>\n",
              "  </thead>\n",
              "  <tbody>\n",
              "    <tr>\n",
              "      <th>0</th>\n",
              "      <td>2.5</td>\n",
              "      <td>21</td>\n",
              "    </tr>\n",
              "    <tr>\n",
              "      <th>1</th>\n",
              "      <td>5.1</td>\n",
              "      <td>47</td>\n",
              "    </tr>\n",
              "    <tr>\n",
              "      <th>2</th>\n",
              "      <td>3.2</td>\n",
              "      <td>27</td>\n",
              "    </tr>\n",
              "    <tr>\n",
              "      <th>3</th>\n",
              "      <td>8.5</td>\n",
              "      <td>75</td>\n",
              "    </tr>\n",
              "    <tr>\n",
              "      <th>4</th>\n",
              "      <td>3.5</td>\n",
              "      <td>30</td>\n",
              "    </tr>\n",
              "  </tbody>\n",
              "</table>\n",
              "</div>"
            ],
            "text/plain": [
              "   Hours  Scores\n",
              "0    2.5      21\n",
              "1    5.1      47\n",
              "2    3.2      27\n",
              "3    8.5      75\n",
              "4    3.5      30"
            ]
          },
          "metadata": {
            "tags": []
          },
          "execution_count": 3
        }
      ]
    },
    {
      "cell_type": "markdown",
      "metadata": {
        "id": "NBWPE2aUr37A"
      },
      "source": [
        "### Plotting the graph -  'Hours vs Scores'"
      ],
      "id": "NBWPE2aUr37A"
    },
    {
      "cell_type": "code",
      "metadata": {
        "id": "avL3ejIMr37A",
        "outputId": "f5971c60-145b-4279-a0d0-6227b123eba1"
      },
      "source": [
        "sns.lineplot(x = 'Hours', y = 'Scores', data = df);\n",
        "plt.title('Hours vs Scores')  \n",
        "plt.xlabel('Hours Studied')  \n",
        "plt.ylabel('Percentage Score')  \n",
        "plt.show()"
      ],
      "id": "avL3ejIMr37A",
      "execution_count": null,
      "outputs": [
        {
          "output_type": "display_data",
          "data": {
            "image/png": "[encoded data removed]",
            "text/plain": [
              "<Figure size 432x288 with 1 Axes>"
            ]
          },
          "metadata": {
            "tags": [],
            "needs_background": "light"
          }
        }
      ]
    },
    {
      "cell_type": "markdown",
      "metadata": {
        "id": "P2zRUkEIr37A"
      },
      "source": [
        "### Dividing the data into \"Attributes\" and \"Labels\""
      ],
      "id": "P2zRUkEIr37A"
    },
    {
      "cell_type": "code",
      "metadata": {
        "id": "_RMpgN2Xr37A"
      },
      "source": [
        "X = df.iloc[:, :-1]\n",
        "y = df.iloc[:, -1]"
      ],
      "id": "_RMpgN2Xr37A",
      "execution_count": null,
      "outputs": []
    },
    {
      "cell_type": "markdown",
      "metadata": {
        "id": "D1yBc0LUr37A"
      },
      "source": [
        "### Splitting the data into train and test using 'train_test_split'"
      ],
      "id": "D1yBc0LUr37A"
    },
    {
      "cell_type": "code",
      "metadata": {
        "id": "kOkMMooDr37A"
      },
      "source": [
        "from sklearn.model_selection import train_test_split\n",
        "X_train, X_test, y_train, y_test = train_test_split(X, y, test_size = 0.2, random_state=0)"
      ],
      "id": "kOkMMooDr37A",
      "execution_count": null,
      "outputs": []
    },
    {
      "cell_type": "markdown",
      "metadata": {
        "id": "FtOKuhT4r38k"
      },
      "source": [
        "### Training the Algorithm"
      ],
      "id": "FtOKuhT4r38k"
    },
    {
      "cell_type": "code",
      "metadata": {
        "id": "MKbdD8izr38k",
        "outputId": "57d6c796-0cca-4686-c8a6-748921c07ce5"
      },
      "source": [
        "from sklearn.linear_model import LinearRegression \n",
        "regressor = LinearRegression()\n",
        "regressor.fit(X_train, y_train)\n",
        "print(\"Trainig Completed.\")"
      ],
      "id": "MKbdD8izr38k",
      "execution_count": null,
      "outputs": [
        {
          "output_type": "stream",
          "text": [
            "Trainig Completed.\n"
          ],
          "name": "stdout"
        }
      ]
    },
    {
      "cell_type": "markdown",
      "metadata": {
        "id": "kcaLM9a1r38k"
      },
      "source": [
        "### Plotting for the test data"
      ],
      "id": "kcaLM9a1r38k"
    },
    {
      "cell_type": "code",
      "metadata": {
        "id": "7uhsgmlKr38k",
        "outputId": "031a241f-3f6d-4b98-f7db-72812111151e"
      },
      "source": [
        "line = regressor.coef_*X + regressor.intercept_\n",
        "\n",
        "plt.scatter(X, y)\n",
        "plt.plot(X, line)\n",
        "plt.show()"
      ],
      "id": "7uhsgmlKr38k",
      "execution_count": null,
      "outputs": [
        {
          "output_type": "display_data",
          "data": {
            "image/png": "[encoded data removed]",
            "text/plain": [
              "<Figure size 432x288 with 1 Axes>"
            ]
          },
          "metadata": {
            "tags": [],
            "needs_background": "light"
          }
        }
      ]
    },
    {
      "cell_type": "markdown",
      "metadata": {
        "id": "gWZ-G5UIr38k"
      },
      "source": [
        "### Making Predictions using the trained model"
      ],
      "id": "gWZ-G5UIr38k"
    },
    {
      "cell_type": "code",
      "metadata": {
        "id": "axUgGYuqr38k",
        "outputId": "76d78a2c-48cc-4b87-cbcb-81dc57127da1"
      },
      "source": [
        "y_preds = regressor.predict(X_test)\n",
        "y_preds"
      ],
      "id": "axUgGYuqr38k",
      "execution_count": null,
      "outputs": [
        {
          "output_type": "execute_result",
          "data": {
            "text/plain": [
              "array([16.88414476, 33.73226078, 75.357018  , 26.79480124, 60.49103328])"
            ]
          },
          "metadata": {
            "tags": []
          },
          "execution_count": 9
        }
      ]
    },
    {
      "cell_type": "markdown",
      "metadata": {
        "id": "SOJpYM97r38k"
      },
      "source": [
        "### Comparing Actual vs Predicted"
      ],
      "id": "SOJpYM97r38k"
    },
    {
      "cell_type": "code",
      "metadata": {
        "id": "nNmEH49jr38k",
        "outputId": "06c5e162-c74f-4c2e-bd26-62ac98d99350"
      },
      "source": [
        "df = pd.DataFrame({'Actual': y_test, 'Predicted': y_preds})  \n",
        "df "
      ],
      "id": "nNmEH49jr38k",
      "execution_count": null,
      "outputs": [
        {
          "output_type": "execute_result",
          "data": {
            "text/html": [
              "<div>\n",
              "<style scoped>\n",
              "    .dataframe tbody tr th:only-of-type {\n",
              "        vertical-align: middle;\n",
              "    }\n",
              "\n",
              "    .dataframe tbody tr th {\n",
              "        vertical-align: top;\n",
              "    }\n",
              "\n",
              "    .dataframe thead th {\n",
              "        text-align: right;\n",
              "    }\n",
              "</style>\n",
              "<table border=\"1\" class=\"dataframe\">\n",
              "  <thead>\n",
              "    <tr style=\"text-align: right;\">\n",
              "      <th></th>\n",
              "      <th>Actual</th>\n",
              "      <th>Predicted</th>\n",
              "    </tr>\n",
              "  </thead>\n",
              "  <tbody>\n",
              "    <tr>\n",
              "      <th>5</th>\n",
              "      <td>20</td>\n",
              "      <td>16.884145</td>\n",
              "    </tr>\n",
              "    <tr>\n",
              "      <th>2</th>\n",
              "      <td>27</td>\n",
              "      <td>33.732261</td>\n",
              "    </tr>\n",
              "    <tr>\n",
              "      <th>19</th>\n",
              "      <td>69</td>\n",
              "      <td>75.357018</td>\n",
              "    </tr>\n",
              "    <tr>\n",
              "      <th>16</th>\n",
              "      <td>30</td>\n",
              "      <td>26.794801</td>\n",
              "    </tr>\n",
              "    <tr>\n",
              "      <th>11</th>\n",
              "      <td>62</td>\n",
              "      <td>60.491033</td>\n",
              "    </tr>\n",
              "  </tbody>\n",
              "</table>\n",
              "</div>"
            ],
            "text/plain": [
              "    Actual  Predicted\n",
              "5       20  16.884145\n",
              "2       27  33.732261\n",
              "19      69  75.357018\n",
              "16      30  26.794801\n",
              "11      62  60.491033"
            ]
          },
          "metadata": {
            "tags": []
          },
          "execution_count": 10
        }
      ]
    },
    {
      "cell_type": "markdown",
      "metadata": {
        "id": "aI8yKIKir38k"
      },
      "source": [
        "### What will be the score if student studies for 9.25 hrs/day?"
      ],
      "id": "aI8yKIKir38k"
    },
    {
      "cell_type": "code",
      "metadata": {
        "id": "n5E1tf99r38k",
        "outputId": "4afc29d3-15e1-4ba9-d4c1-29900a789dba"
      },
      "source": [
        "hrs = 9.25\n",
        "predicted_score = regressor.predict([[hrs]])\n",
        "print(\"If the student studies for {} hrs/day, then the score will be {:.2f}%\".format(hrs, predicted_score[0]))"
      ],
      "id": "n5E1tf99r38k",
      "execution_count": null,
      "outputs": [
        {
          "output_type": "stream",
          "text": [
            "If the student studies for 9.25 hrs/day, then the score will be 93.69%\n"
          ],
          "name": "stdout"
        }
      ]
    },
    {
      "cell_type": "markdown",
      "metadata": {
        "id": "76RjEIWBr38k"
      },
      "source": [
        "## Model Evaluation"
      ],
      "id": "76RjEIWBr38k"
    },
    {
      "cell_type": "code",
      "metadata": {
        "id": "1inGMhE0r38k",
        "outputId": "734be3da-3136-4562-87e7-c7eee32320fd"
      },
      "source": [
        "from sklearn.metrics import mean_absolute_error, mean_squared_error\n",
        "mae = mean_absolute_error(y_test, y_preds)\n",
        "mse = mean_squared_error(y_test, y_preds)\n",
        "\n",
        "print(f'The mean absolute error is {mae:.4f}')\n",
        "print(f'the mean squared error is {mse: .4f}')"
      ],
      "id": "1inGMhE0r38k",
      "execution_count": null,
      "outputs": [
        {
          "output_type": "stream",
          "text": [
            "The mean absolute error is 4.1839\n",
            "the mean squared error is  21.5988\n"
          ],
          "name": "stdout"
        }
      ]
    },
    {
      "cell_type": "markdown",
      "metadata": {
        "id": "_sdm9PuAr38k"
      },
      "source": [
        "# *Thank You*"
      ],
      "id": "_sdm9PuAr38k"
    }
  ]
}